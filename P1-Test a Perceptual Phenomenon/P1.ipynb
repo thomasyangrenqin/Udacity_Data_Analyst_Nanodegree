{
 "cells": [
  {
   "cell_type": "code",
   "execution_count": 27,
   "metadata": {
    "collapsed": false
   },
   "outputs": [],
   "source": [
    "import csv\n",
    "f=open('/Users/yangrenqin/Desktop/udacity/stroopdata.csv')\n",
    "f2=csv.reader(f)\n",
    "\n",
    "data=[]\n",
    "for i in f2:\n",
    "    data.append((i[:2]))\n",
    "    \n",
    "f.close()"
   ]
  },
  {
   "cell_type": "code",
   "execution_count": 32,
   "metadata": {
    "collapsed": false
   },
   "outputs": [],
   "source": [
    "for i in range(len(data)-1):\n",
    "    data[(i+1)]=[float(l) for l in data[(i+1)]]"
   ]
  },
  {
   "cell_type": "code",
   "execution_count": 33,
   "metadata": {
    "collapsed": false
   },
   "outputs": [
    {
     "data": {
      "text/plain": [
       "[['Congruent', 'Incongruent'],\n",
       " [12.079, 19.278],\n",
       " [16.791, 18.741],\n",
       " [9.564, 21.214],\n",
       " [8.63, 15.687],\n",
       " [14.669, 22.803],\n",
       " [12.238, 20.878],\n",
       " [14.692, 24.572],\n",
       " [8.987, 17.394],\n",
       " [9.401, 20.762],\n",
       " [14.48, 26.282],\n",
       " [22.328, 24.524],\n",
       " [15.298, 18.644],\n",
       " [15.073, 17.51],\n",
       " [16.929, 20.33],\n",
       " [18.2, 35.255],\n",
       " [12.13, 22.158],\n",
       " [18.495, 25.139],\n",
       " [10.639, 20.429],\n",
       " [11.344, 17.425],\n",
       " [12.369, 34.288],\n",
       " [12.944, 23.894],\n",
       " [14.233, 17.96],\n",
       " [19.71, 22.058],\n",
       " [16.004, 21.157]]"
      ]
     },
     "execution_count": 33,
     "metadata": {},
     "output_type": "execute_result"
    }
   ],
   "source": [
    "data"
   ]
  },
  {
   "cell_type": "code",
   "execution_count": 43,
   "metadata": {
    "collapsed": false
   },
   "outputs": [
    {
     "data": {
      "image/png": "[encoded data removed]",
      "text/plain": [
       "<matplotlib.figure.Figure at 0x10e5f1630>"
      ]
     },
     "metadata": {},
     "output_type": "display_data"
    }
   ],
   "source": [
    "import matplotlib.pyplot as plt\n",
    "import numpy as np\n",
    "%matplotlib inline\n",
    "data1=np.array(data[1:])\n",
    "plt.boxplot(data1,labels=data[0]);"
   ]
  },
  {
   "cell_type": "code",
   "execution_count": null,
   "metadata": {
    "collapsed": true
   },
   "outputs": [],
   "source": []
  }
 ],
 "metadata": {
  "anaconda-cloud": {},
  "kernelspec": {
   "display_name": "Python [py35]",
   "language": "python",
   "name": "Python [py35]"
  },
  "language_info": {
   "codemirror_mode": {
    "name": "ipython",
    "version": 3
   },
   "file_extension": ".py",
   "mimetype": "text/x-python",
   "name": "python",
   "nbconvert_exporter": "python",
   "pygments_lexer": "ipython3",
   "version": "3.5.2"
  }
 },
 "nbformat": 4,
 "nbformat_minor": 0
}
